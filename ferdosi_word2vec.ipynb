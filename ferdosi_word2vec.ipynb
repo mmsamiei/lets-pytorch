{
  "nbformat": 4,
  "nbformat_minor": 0,
  "metadata": {
    "colab": {
      "name": "Untitled17.ipynb",
      "version": "0.3.2",
      "provenance": [],
      "include_colab_link": true
    },
    "kernelspec": {
      "name": "python3",
      "display_name": "Python 3"
    },
    "accelerator": "GPU"
  },
  "cells": [
    {
      "cell_type": "markdown",
      "metadata": {
        "id": "view-in-github",
        "colab_type": "text"
      },
      "source": [
        "<a href=\"https://colab.research.google.com/github/mmsamiei/lets-pytorch/blob/master/ferdosi_word2vec.ipynb\" target=\"_parent\"><img src=\"https://colab.research.google.com/assets/colab-badge.svg\" alt=\"Open In Colab\"/></a>"
      ]
    },
    {
      "cell_type": "code",
      "metadata": {
        "id": "rmFCVzmdayLZ",
        "colab_type": "code",
        "colab": {}
      },
      "source": [
        "import numpy as np\n",
        "import torch\n",
        "import torch.nn as nn\n",
        "import torch.optim as optim\n",
        "from torch.autograd import Variable\n",
        "import matplotlib.pyplot as plt"
      ],
      "execution_count": 0,
      "outputs": []
    },
    {
      "cell_type": "code",
      "metadata": {
        "id": "hVnMvcx9a-vu",
        "colab_type": "code",
        "colab": {}
      },
      "source": [
        "from google.colab import drive\n",
        "drive.mount('/content/gdrive')"
      ],
      "execution_count": 0,
      "outputs": []
    },
    {
      "cell_type": "code",
      "metadata": {
        "id": "Ev4JVSwPbKt1",
        "colab_type": "code",
        "colab": {
          "base_uri": "https://localhost:8080/",
          "height": 70
        },
        "outputId": "07a20c74-687a-4abb-9762-26b5979296b9"
      },
      "source": [
        "%cd gdrive/My\\ Drive/\n",
        "%cd datasets/\n",
        "%cd ./Ferdosi"
      ],
      "execution_count": 3,
      "outputs": [
        {
          "output_type": "stream",
          "text": [
            "/content/gdrive/My Drive\n",
            "/content/gdrive/My Drive/datasets\n",
            "/content/gdrive/My Drive/datasets/Ferdosi\n"
          ],
          "name": "stdout"
        }
      ]
    },
    {
      "cell_type": "code",
      "metadata": {
        "id": "hOuVrHfvbN_l",
        "colab_type": "code",
        "colab": {}
      },
      "source": [
        "beyts = []\n",
        "with open('ferdosi.txt', 'r') as fp:\n",
        "  for line in fp:\n",
        "    line = line.replace(',','')\n",
        "    temp = line.rstrip(\"\\n\").split()\n",
        "    beyts.append(temp)"
      ],
      "execution_count": 0,
      "outputs": []
    },
    {
      "cell_type": "code",
      "metadata": {
        "id": "YCZOeIy-bWIm",
        "colab_type": "code",
        "colab": {}
      },
      "source": [
        "word_arr = []\n",
        "for beyt in beyts:\n",
        "  for word in beyt:\n",
        "    if word not in word_arr:\n",
        "      word_arr.append(word)"
      ],
      "execution_count": 0,
      "outputs": []
    },
    {
      "cell_type": "code",
      "metadata": {
        "id": "_t-YxQTBfZpl",
        "colab_type": "code",
        "colab": {
          "base_uri": "https://localhost:8080/",
          "height": 35
        },
        "outputId": "d6c8bf7a-519e-4e34-cb89-f85281a6c72e"
      },
      "source": [
        "len(word_arr)"
      ],
      "execution_count": 6,
      "outputs": [
        {
          "output_type": "execute_result",
          "data": {
            "text/plain": [
              "17658"
            ]
          },
          "metadata": {
            "tags": []
          },
          "execution_count": 6
        }
      ]
    },
    {
      "cell_type": "code",
      "metadata": {
        "id": "10I0YMfdfdf2",
        "colab_type": "code",
        "colab": {}
      },
      "source": [
        "word_dict = {word:index for index,word in enumerate(word_arr)}"
      ],
      "execution_count": 0,
      "outputs": []
    },
    {
      "cell_type": "code",
      "metadata": {
        "id": "laIVsBDjf5dr",
        "colab_type": "code",
        "colab": {}
      },
      "source": [
        "# Word2Vec Parameter\n",
        "batch_size = 32\n",
        "embedding_size = 25\n",
        "voc_size = len(word_arr)\n",
        "window_size = 5"
      ],
      "execution_count": 0,
      "outputs": []
    },
    {
      "cell_type": "code",
      "metadata": {
        "id": "M-gKKFbTgG8i",
        "colab_type": "code",
        "colab": {
          "base_uri": "https://localhost:8080/",
          "height": 585
        },
        "outputId": "81cba635-9b51-4a49-cada-3a250157d149"
      },
      "source": [
        "def make_pairs(beyts, window_size):\n",
        "  pairs = []\n",
        "  for beyt in beyts:\n",
        "    for i in range(len(beyt)-window_size):\n",
        "      for j in range(1,window_size+1):\n",
        "        pair_one = [beyt[i],beyt[i+j]]\n",
        "        pair_two = [beyt[i+j],beyt[i]]\n",
        "        pairs.append(pair_one)\n",
        "        pairs.append(pair_two)\n",
        "  return pairs\n",
        "\n",
        "make_pairs(beyts[:1],2)"
      ],
      "execution_count": 33,
      "outputs": [
        {
          "output_type": "execute_result",
          "data": {
            "text/plain": [
              "[['به', 'نام'],\n",
              " ['نام', 'به'],\n",
              " ['به', 'خداوند'],\n",
              " ['خداوند', 'به'],\n",
              " ['نام', 'خداوند'],\n",
              " ['خداوند', 'نام'],\n",
              " ['نام', 'جان'],\n",
              " ['جان', 'نام'],\n",
              " ['خداوند', 'جان'],\n",
              " ['جان', 'خداوند'],\n",
              " ['خداوند', 'و'],\n",
              " ['و', 'خداوند'],\n",
              " ['جان', 'و'],\n",
              " ['و', 'جان'],\n",
              " ['جان', 'خرد'],\n",
              " ['خرد', 'جان'],\n",
              " ['و', 'خرد'],\n",
              " ['خرد', 'و'],\n",
              " ['و', 'کزین'],\n",
              " ['کزین', 'و'],\n",
              " ['خرد', 'کزین'],\n",
              " ['کزین', 'خرد'],\n",
              " ['خرد', 'برتر'],\n",
              " ['برتر', 'خرد'],\n",
              " ['کزین', 'برتر'],\n",
              " ['برتر', 'کزین'],\n",
              " ['کزین', 'اندیشه'],\n",
              " ['اندیشه', 'کزین'],\n",
              " ['برتر', 'اندیشه'],\n",
              " ['اندیشه', 'برتر'],\n",
              " ['برتر', 'برنگذرد'],\n",
              " ['برنگذرد', 'برتر']]"
            ]
          },
          "metadata": {
            "tags": []
          },
          "execution_count": 33
        }
      ]
    },
    {
      "cell_type": "code",
      "metadata": {
        "id": "ZAlBzFCTtt_5",
        "colab_type": "code",
        "colab": {}
      },
      "source": [
        "def to_num(pairs):\n",
        "  num_pairs = []\n",
        "  for pair in pairs:\n",
        "    num_pair = [word_dict[pair[0]], word_dict[pair[1]]]\n",
        "    num_pairs.append(num_pair)\n",
        "  return num_pairs"
      ],
      "execution_count": 0,
      "outputs": []
    },
    {
      "cell_type": "code",
      "metadata": {
        "id": "IVviTKdAz6nN",
        "colab_type": "code",
        "colab": {}
      },
      "source": [
        "pairs = make_pairs(beyts, window_size)\n",
        "num_pairs = to_num(pairs)"
      ],
      "execution_count": 0,
      "outputs": []
    },
    {
      "cell_type": "code",
      "metadata": {
        "id": "naUbyXhe2YM7",
        "colab_type": "code",
        "colab": {
          "base_uri": "https://localhost:8080/",
          "height": 35
        },
        "outputId": "ab29ed4b-5979-4875-c370-d45061f0a7d1"
      },
      "source": [
        "len(num_pairs)"
      ],
      "execution_count": 36,
      "outputs": [
        {
          "output_type": "execute_result",
          "data": {
            "text/plain": [
              "3204730"
            ]
          },
          "metadata": {
            "tags": []
          },
          "execution_count": 36
        }
      ]
    },
    {
      "cell_type": "code",
      "metadata": {
        "id": "3xrkELU82cgb",
        "colab_type": "code",
        "colab": {}
      },
      "source": [
        "x = np.array(num_pairs, dtype=float).T[0]\n",
        "y = np.array(num_pairs, dtype=int).T[1]"
      ],
      "execution_count": 0,
      "outputs": []
    },
    {
      "cell_type": "code",
      "metadata": {
        "id": "5MY2YQDd3IL4",
        "colab_type": "code",
        "colab": {}
      },
      "source": [
        "x = torch.tensor(x.reshape((-1,1)))\n",
        "y = torch.tensor(y.reshape((-1)))"
      ],
      "execution_count": 0,
      "outputs": []
    },
    {
      "cell_type": "code",
      "metadata": {
        "id": "1-313HmC3AdG",
        "colab_type": "code",
        "colab": {}
      },
      "source": [
        "from torch.utils.data import TensorDataset\n",
        "train_ds = TensorDataset(x, y)"
      ],
      "execution_count": 0,
      "outputs": []
    },
    {
      "cell_type": "code",
      "metadata": {
        "id": "3RuXrZIZ4Zt2",
        "colab_type": "code",
        "colab": {}
      },
      "source": [
        "from torch.utils.data import DataLoader\n",
        "\n",
        "train_dl = DataLoader(train_ds, batch_size=batch_size, drop_last=True)"
      ],
      "execution_count": 0,
      "outputs": []
    },
    {
      "cell_type": "code",
      "metadata": {
        "id": "eUjJTx5T5s4P",
        "colab_type": "code",
        "colab": {}
      },
      "source": [
        "def make_one_hot(x_train, y_train):\n",
        "  inputs = torch.zeros((batch_size, voc_size))\n",
        "  \n",
        "  labels = torch.LongTensor(y_train)\n",
        "  \n",
        "  for i in range(batch_size):\n",
        "    inputs[i][int(x_train[i])] = 1\n",
        "  return inputs, labels"
      ],
      "execution_count": 0,
      "outputs": []
    },
    {
      "cell_type": "code",
      "metadata": {
        "id": "44o1D5sO7jPQ",
        "colab_type": "code",
        "colab": {}
      },
      "source": [
        "class Word2Vec(nn.Module):\n",
        "    def __init__(self):\n",
        "        super().__init__()\n",
        "        self.lin1 = nn.Linear(voc_size, embedding_size)\n",
        "        self.lin2 = nn.Linear(embedding_size, voc_size)\n",
        "        \n",
        "    def forward(self, xb):\n",
        "        temp = self.lin1(xb)\n",
        "        return(self.lin2(temp))"
      ],
      "execution_count": 0,
      "outputs": []
    },
    {
      "cell_type": "code",
      "metadata": {
        "id": "jBScxnHeA8NJ",
        "colab_type": "code",
        "colab": {
          "base_uri": "https://localhost:8080/",
          "height": 35
        },
        "outputId": "33d29bb6-b1fc-4e4d-cbc3-d5dbb2d7a88c"
      },
      "source": [
        "print(torch.cuda.torch.cuda.is_available())"
      ],
      "execution_count": 43,
      "outputs": [
        {
          "output_type": "stream",
          "text": [
            "True\n"
          ],
          "name": "stdout"
        }
      ]
    },
    {
      "cell_type": "code",
      "metadata": {
        "id": "6NrndFGUBFx4",
        "colab_type": "code",
        "colab": {}
      },
      "source": [
        "dev = torch.device(\n",
        "    \"cuda\") if torch.cuda.is_available() else torch.device(\"cpu\")"
      ],
      "execution_count": 0,
      "outputs": []
    },
    {
      "cell_type": "code",
      "metadata": {
        "id": "jmZtRot18Mh4",
        "colab_type": "code",
        "colab": {}
      },
      "source": [
        "model = Word2Vec().to(dev)"
      ],
      "execution_count": 0,
      "outputs": []
    },
    {
      "cell_type": "code",
      "metadata": {
        "id": "ekLruIWG8AYh",
        "colab_type": "code",
        "colab": {}
      },
      "source": [
        "from torch import optim\n",
        "optimizer = optim.Adam(model.parameters(), lr=0.001)\n",
        "criterion = nn.CrossEntropyLoss()"
      ],
      "execution_count": 0,
      "outputs": []
    },
    {
      "cell_type": "code",
      "metadata": {
        "id": "clMYqgUj4y4G",
        "colab_type": "code",
        "colab": {
          "base_uri": "https://localhost:8080/",
          "height": 106
        },
        "outputId": "68792142-93f0-4dad-ac94-ec7610bd13bd"
      },
      "source": [
        "for epoch in range(5):\n",
        "  for xb,yb in train_dl:\n",
        "    #xb = xb.to(dev)\n",
        "    #yb = yb.to(dev)\n",
        "    inputs, labels = make_one_hot(xb, yb)\n",
        "    inputs = inputs.to(dev)\n",
        "    labels = labels.to(dev)\n",
        "    optimizer.zero_grad()\n",
        "    output = model(inputs)\n",
        "    loss = criterion(output, labels)\n",
        "    loss.backward()\n",
        "    optimizer.step()\n",
        "  print(\"epoch {epoch}: loss is {loss}\".format(epoch = epoch+1, loss = loss.item()))"
      ],
      "execution_count": 52,
      "outputs": [
        {
          "output_type": "stream",
          "text": [
            "epoch 1: loss is 5.044978141784668\n",
            "epoch 2: loss is 4.9276652336120605\n",
            "epoch 3: loss is 4.910666465759277\n",
            "epoch 4: loss is 4.944161415100098\n",
            "epoch 5: loss is 4.955267906188965\n"
          ],
          "name": "stdout"
        }
      ]
    },
    {
      "cell_type": "code",
      "metadata": {
        "id": "S1FeR1agPLev",
        "colab_type": "code",
        "colab": {
          "base_uri": "https://localhost:8080/",
          "height": 88
        },
        "outputId": "8d9a06e5-3cfd-4527-9b0a-f7a0f2056910"
      },
      "source": [
        "for name, param in model.named_parameters():\n",
        "    if param.requires_grad:\n",
        "        weights = param.data.cpu().numpy()\n",
        "        print(name, weights.shape)"
      ],
      "execution_count": 73,
      "outputs": [
        {
          "output_type": "stream",
          "text": [
            "lin1.weight (25, 17658)\n",
            "lin1.bias (25,)\n",
            "lin2.weight (17658, 25)\n",
            "lin2.bias (17658,)\n"
          ],
          "name": "stdout"
        }
      ]
    },
    {
      "cell_type": "code",
      "metadata": {
        "id": "JeAeSnJHbJvv",
        "colab_type": "code",
        "colab": {
          "base_uri": "https://localhost:8080/",
          "height": 197
        },
        "outputId": "bd0e6259-7ec4-4ff8-f3b3-78dcdd98901a"
      },
      "source": [
        "!pip install tensorboardX\n",
        "from tensorboardX import SummaryWriter"
      ],
      "execution_count": 65,
      "outputs": [
        {
          "output_type": "stream",
          "text": [
            "Collecting tensorboardX\n",
            "\u001b[?25l  Downloading https://files.pythonhosted.org/packages/5c/76/89dd44458eb976347e5a6e75eb79fecf8facd46c1ce259bad54e0044ea35/tensorboardX-1.6-py2.py3-none-any.whl (129kB)\n",
            "\u001b[K     |████████████████████████████████| 133kB 3.4MB/s \n",
            "\u001b[?25hRequirement already satisfied: protobuf>=3.2.0 in /usr/local/lib/python3.6/dist-packages (from tensorboardX) (3.7.1)\n",
            "Requirement already satisfied: six in /usr/local/lib/python3.6/dist-packages (from tensorboardX) (1.12.0)\n",
            "Requirement already satisfied: numpy in /usr/local/lib/python3.6/dist-packages (from tensorboardX) (1.16.3)\n",
            "Requirement already satisfied: setuptools in /usr/local/lib/python3.6/dist-packages (from protobuf>=3.2.0->tensorboardX) (41.0.1)\n",
            "Installing collected packages: tensorboardX\n",
            "Successfully installed tensorboardX-1.6\n"
          ],
          "name": "stdout"
        }
      ]
    },
    {
      "cell_type": "code",
      "metadata": {
        "id": "2EY1h6xLbkRC",
        "colab_type": "code",
        "colab": {
          "base_uri": "https://localhost:8080/",
          "height": 35
        },
        "outputId": "df6ff106-1dcd-4926-a34a-1214bd76c5f6"
      },
      "source": [
        "model_param = list(model.parameters())\n",
        "embedding = model_param[0]\n",
        "embedding = embedding.t()\n",
        "#embedding = embedding[:100]\n",
        "embedding.shape"
      ],
      "execution_count": 120,
      "outputs": [
        {
          "output_type": "execute_result",
          "data": {
            "text/plain": [
              "torch.Size([17658, 25])"
            ]
          },
          "metadata": {
            "tags": []
          },
          "execution_count": 120
        }
      ]
    },
    {
      "cell_type": "code",
      "metadata": {
        "id": "SEB09DI2ez9i",
        "colab_type": "code",
        "colab": {}
      },
      "source": [
        "meta = word_arr"
      ],
      "execution_count": 0,
      "outputs": []
    },
    {
      "cell_type": "code",
      "metadata": {
        "id": "ni0203XDgsAD",
        "colab_type": "code",
        "colab": {
          "base_uri": "https://localhost:8080/",
          "height": 35
        },
        "outputId": "1ff7c309-9fdf-4bd6-d1b3-fd69174bc5a0"
      },
      "source": [
        "len(meta)"
      ],
      "execution_count": 122,
      "outputs": [
        {
          "output_type": "execute_result",
          "data": {
            "text/plain": [
              "17658"
            ]
          },
          "metadata": {
            "tags": []
          },
          "execution_count": 122
        }
      ]
    },
    {
      "cell_type": "code",
      "metadata": {
        "id": "oyLoax5Yc-oa",
        "colab_type": "code",
        "colab": {}
      },
      "source": [
        "import keyword\n",
        "writer = SummaryWriter()\n",
        "# while len(meta)<100:\n",
        "#   meta = meta+keyword.kwlist # get some strings\n",
        "  \n",
        "# meta = meta[:100]\n",
        "# for i, v in enumerate(meta):\n",
        "#   meta[i] = v+word_arr[i]\n",
        "\n",
        "# label_img = torch.rand(100, 3, 10, 32)\n",
        "# for i in range(100):\n",
        "#     label_img[i]*=i/100.0\n",
        "\n",
        "#writer.add_embedding(torch.randn(100, 5), metadata=meta, label_img=label_img)\n",
        "#writer.add_embedding(torch.randn(100, 5), label_img=label_img)\n",
        "writer.add_embedding(embedding, metadata=meta)\n"
      ],
      "execution_count": 0,
      "outputs": []
    },
    {
      "cell_type": "code",
      "metadata": {
        "id": "-kHwshWVdUhT",
        "colab_type": "code",
        "colab": {}
      },
      "source": [
        "!rm -r runs"
      ],
      "execution_count": 0,
      "outputs": []
    }
  ]
}