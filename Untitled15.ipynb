{
  "nbformat": 4,
  "nbformat_minor": 0,
  "metadata": {
    "colab": {
      "name": "Untitled15.ipynb",
      "version": "0.3.2",
      "provenance": [],
      "collapsed_sections": [],
      "include_colab_link": true
    },
    "kernelspec": {
      "name": "python3",
      "display_name": "Python 3"
    },
    "accelerator": "GPU"
  },
  "cells": [
    {
      "cell_type": "markdown",
      "metadata": {
        "id": "view-in-github",
        "colab_type": "text"
      },
      "source": [
        "<a href=\"https://colab.research.google.com/github/mmsamiei/lets-pytorch/blob/master/Untitled15.ipynb\" target=\"_parent\"><img src=\"https://colab.research.google.com/assets/colab-badge.svg\" alt=\"Open In Colab\"/></a>"
      ]
    },
    {
      "cell_type": "code",
      "metadata": {
        "id": "hFe2Nn0Gh2zP",
        "colab_type": "code",
        "colab": {}
      },
      "source": [
        "import numpy as np\n",
        "import torch\n",
        "from torch.autograd import Variable"
      ],
      "execution_count": 0,
      "outputs": []
    },
    {
      "cell_type": "code",
      "metadata": {
        "id": "-4XWRfloI9KU",
        "colab_type": "code",
        "outputId": "dfa1e77a-a812-4d66-b311-9effeaf83156",
        "colab": {
          "base_uri": "https://localhost:8080/",
          "height": 35
        }
      },
      "source": [
        "from google.colab import drive\n",
        "drive.mount('/content/gdrive')"
      ],
      "execution_count": 2,
      "outputs": [
        {
          "output_type": "stream",
          "text": [
            "Drive already mounted at /content/gdrive; to attempt to forcibly remount, call drive.mount(\"/content/gdrive\", force_remount=True).\n"
          ],
          "name": "stdout"
        }
      ]
    },
    {
      "cell_type": "code",
      "metadata": {
        "id": "aV1oz9rqJex9",
        "colab_type": "code",
        "outputId": "7f3eb113-09e3-4b1a-d196-119e563a521a",
        "colab": {
          "base_uri": "https://localhost:8080/",
          "height": 70
        }
      },
      "source": [
        "%cd gdrive/My\\ Drive/\n",
        "%cd datasets/\n",
        "%cd ./Ferdosi\n"
      ],
      "execution_count": 3,
      "outputs": [
        {
          "output_type": "stream",
          "text": [
            "/content/gdrive/My Drive\n",
            "/content/gdrive/My Drive/datasets\n",
            "/content/gdrive/My Drive/datasets/Ferdosi\n"
          ],
          "name": "stdout"
        }
      ]
    },
    {
      "cell_type": "code",
      "metadata": {
        "id": "kChfjmxxKa9a",
        "colab_type": "code",
        "colab": {}
      },
      "source": [
        "seq_data = []\n",
        "with open('ferdosi.txt', 'r') as fp:\n",
        "  for line in fp:\n",
        "    temp = line.rstrip(\"\\n\\r\").split(\",\")\n",
        "    seq_data.append(temp)"
      ],
      "execution_count": 0,
      "outputs": []
    },
    {
      "cell_type": "code",
      "metadata": {
        "id": "PmfdLl7kL_by",
        "colab_type": "code",
        "colab": {}
      },
      "source": [
        "char_array = []\n",
        "for beyt in seq_data:\n",
        "  for mesra in beyt:\n",
        "    for c in mesra:\n",
        "      if c not in char_array:\n",
        "        char_array.append(c)"
      ],
      "execution_count": 0,
      "outputs": []
    },
    {
      "cell_type": "code",
      "metadata": {
        "id": "j4vPqHvszhse",
        "colab_type": "code",
        "colab": {}
      },
      "source": [
        "char_array += ['P','S','E']"
      ],
      "execution_count": 0,
      "outputs": []
    },
    {
      "cell_type": "code",
      "metadata": {
        "id": "dmWo8qH9xLwT",
        "colab_type": "code",
        "outputId": "5dee2085-af92-4750-c924-f4afaef98719",
        "colab": {
          "base_uri": "https://localhost:8080/",
          "height": 727
        }
      },
      "source": [
        "char_array"
      ],
      "execution_count": 67,
      "outputs": [
        {
          "output_type": "execute_result",
          "data": {
            "text/plain": [
              "['ب',\n",
              " 'ه',\n",
              " ' ',\n",
              " 'ن',\n",
              " 'ا',\n",
              " 'م',\n",
              " 'خ',\n",
              " 'د',\n",
              " 'و',\n",
              " 'ج',\n",
              " 'ر',\n",
              " 'ک',\n",
              " 'ز',\n",
              " 'ی',\n",
              " 'ت',\n",
              " 'ش',\n",
              " 'گ',\n",
              " 'ذ',\n",
              " 'س',\n",
              " 'پ',\n",
              " 'ف',\n",
              " 'چ',\n",
              " 'ل',\n",
              " 'ژ',\n",
              " 'ص',\n",
              " 'غ',\n",
              " 'ح',\n",
              " 'ئ',\n",
              " 'ع',\n",
              " 'ط',\n",
              " 'ق',\n",
              " 'ث',\n",
              " 'ء',\n",
              " 'ض',\n",
              " 'ظ',\n",
              " 'أ',\n",
              " 'ؤ',\n",
              " 'P',\n",
              " 'S',\n",
              " 'E']"
            ]
          },
          "metadata": {
            "tags": []
          },
          "execution_count": 67
        }
      ]
    },
    {
      "cell_type": "code",
      "metadata": {
        "id": "WvacDOyfxaHl",
        "colab_type": "code",
        "colab": {}
      },
      "source": [
        "num_dictionary = {n: i for i, n in enumerate(char_array)}"
      ],
      "execution_count": 0,
      "outputs": []
    },
    {
      "cell_type": "code",
      "metadata": {
        "id": "vzTwMkoMxrUP",
        "colab_type": "code",
        "outputId": "374ed8f8-1e8e-435e-ec8d-03aa69c4e16f",
        "colab": {
          "base_uri": "https://localhost:8080/",
          "height": 53
        }
      },
      "source": [
        "print(max([len(mesra_avval) for mesra_avval in [beyt[0] for beyt in seq_data]]))\n",
        "print(max([len(mesra_dovom) for mesra_dovom in [beyt[1] for beyt in seq_data]]))"
      ],
      "execution_count": 69,
      "outputs": [
        {
          "output_type": "stream",
          "text": [
            "35\n",
            "35\n"
          ],
          "name": "stdout"
        }
      ]
    },
    {
      "cell_type": "code",
      "metadata": {
        "id": "iaNZG7yvzHnB",
        "colab_type": "code",
        "colab": {}
      },
      "source": [
        "# Seq2Seq Parameter\n",
        "n_step = 35\n",
        "n_hidden = 32\n",
        "n_class = len(num_dictionary)\n",
        "batch_size = 64"
      ],
      "execution_count": 0,
      "outputs": []
    },
    {
      "cell_type": "code",
      "metadata": {
        "id": "tC8gdQLBzSJV",
        "colab_type": "code",
        "colab": {}
      },
      "source": [
        "def make_data(seq_data):\n",
        "    input_batch, output_batch, target_batch = [], [], []\n",
        "\n",
        "    for seq in seq_data:\n",
        "        #for i in range(2):\n",
        "        #    seq[i] = seq[i] + 'P' * (n_step - len(seq[i]))\n",
        "\n",
        "        \n",
        "        seq[0] = seq[0] + 'P' * (n_step - len(seq[0]))\n",
        "        seq[1] = 'P' * (n_step - len(seq[1])) + seq[1] \n",
        "        \n",
        "        \n",
        "        input = [num_dictionary[n] for n in seq[0]]\n",
        "        output = [num_dictionary[n] for n in ('S' + seq[1]) ]\n",
        "        target = [num_dictionary[n] for n in (seq[1] + 'E')]\n",
        "\n",
        "        input_batch.append(np.eye(n_class)[input])\n",
        "        output_batch.append(np.eye(n_class)[output])\n",
        "        target_batch.append(target) # not one-hot\n",
        "\n",
        "    # make tensor\n",
        "    return Variable(torch.Tensor(input_batch)), Variable(torch.Tensor(output_batch)), Variable(torch.LongTensor(target_batch))\n",
        "\n"
      ],
      "execution_count": 0,
      "outputs": []
    },
    {
      "cell_type": "code",
      "metadata": {
        "id": "7KBmh1pi42uI",
        "colab_type": "code",
        "outputId": "7438d6fe-bbea-4bd1-ab4e-93a6499600ae",
        "colab": {
          "base_uri": "https://localhost:8080/",
          "height": 35
        }
      },
      "source": [
        "x = make_data(seq_data)\n",
        "print(x[0].shape, x[1].shape, x[2].shape)"
      ],
      "execution_count": 108,
      "outputs": [
        {
          "output_type": "stream",
          "text": [
            "torch.Size([49609, 35, 40]) torch.Size([49609, 36, 40]) torch.Size([49609, 36])\n"
          ],
          "name": "stdout"
        }
      ]
    },
    {
      "cell_type": "code",
      "metadata": {
        "id": "yyfjkeMg5KZb",
        "colab_type": "code",
        "colab": {}
      },
      "source": [
        "from torch.utils.data import TensorDataset\n",
        "x,y,target = make_data(seq_data)\n",
        "train_ds = TensorDataset(x, y, target)"
      ],
      "execution_count": 0,
      "outputs": []
    },
    {
      "cell_type": "code",
      "metadata": {
        "id": "uAIL12SB5pys",
        "colab_type": "code",
        "colab": {}
      },
      "source": [
        "from torch.utils.data import DataLoader\n",
        "train_dl = DataLoader(train_ds, batch_size=batch_size,drop_last=True)"
      ],
      "execution_count": 0,
      "outputs": []
    },
    {
      "cell_type": "code",
      "metadata": {
        "id": "hcGre_Kzs_sF",
        "colab_type": "code",
        "outputId": "a5b2bd23-cdc6-4f9a-b892-6a94d5fde297",
        "colab": {
          "base_uri": "https://localhost:8080/",
          "height": 35
        }
      },
      "source": [
        "torch.cuda.is_available()"
      ],
      "execution_count": 111,
      "outputs": [
        {
          "output_type": "execute_result",
          "data": {
            "text/plain": [
              "True"
            ]
          },
          "metadata": {
            "tags": []
          },
          "execution_count": 111
        }
      ]
    },
    {
      "cell_type": "code",
      "metadata": {
        "id": "ToWf8xaVGCFZ",
        "colab_type": "code",
        "colab": {}
      },
      "source": [
        "class EncoderRNN(nn.Module):\n",
        "    def __init__(self, input_size, hidden_size):\n",
        "        super(EncoderRNN, self).__init__()\n",
        "        \n",
        "        self.enc_cell = nn.LSTM(input_size=n_class, hidden_size=n_hidden,batch_first=True)\n",
        "\n",
        "    def forward(self, input, h, c):\n",
        "        output, (h, c) = self.enc_cell(input, (h, c))\n",
        "        return output, (h, c)\n",
        "      "
      ],
      "execution_count": 0,
      "outputs": []
    },
    {
      "cell_type": "code",
      "metadata": {
        "id": "tTM3DRdbG0GU",
        "colab_type": "code",
        "colab": {}
      },
      "source": [
        "class DecoderRNN(nn.Module):\n",
        "    def __init__(self, hidden_size, output_size):\n",
        "        super(DecoderRNN, self).__init__()\n",
        "\n",
        "        self.dec_cell = nn.LSTM(input_size=n_class, hidden_size=n_hidden, batch_first=True)\n",
        "        self.fc = nn.Linear(n_hidden, n_class)\n",
        "        self.softmax = nn.Softmax(dim=1)\n",
        "\n",
        "    def forward(self, input, h, c):\n",
        "        outputs, (h, c) = self.dec_cell(dec_input, (h, c))\n",
        "        model = self.softmax(self.fc(outputs))\n",
        "        return model, (h,c)\n"
      ],
      "execution_count": 0,
      "outputs": []
    },
    {
      "cell_type": "code",
      "metadata": {
        "id": "x1FBuKoz51Xc",
        "colab_type": "code",
        "colab": {}
      },
      "source": [
        "from torch import nn\n",
        "class Seq2Seq(nn.Module):\n",
        "    def __init__(self):\n",
        "        super(Seq2Seq, self).__init__()\n",
        "\n",
        "        #self.enc_cell = nn.RNN(input_size=n_class, hidden_size=n_hidden,batch_first=True)\n",
        "        #self.dec_cell = nn.RNN(input_size=n_class, hidden_size=n_hidden,batch_first=True)\n",
        "        \n",
        "        self.enc_cell = nn.LSTM(input_size=n_class, hidden_size=n_hidden,batch_first=True)\n",
        "        self.dec_cell = nn.LSTM(input_size=n_class, hidden_size=n_hidden,batch_first=True)\n",
        "        \n",
        "        self.fc = nn.Linear(n_hidden, n_class)\n",
        "        self.log_softmax = nn.LogSoftmax()\n",
        "        self.softmax = nn.Softmax()\n",
        "\n",
        "    def forward(self, enc_input, enc_states_h, enc_states_c, dec_input):\n",
        "        _, (enc_states_h, enc_states_c) = self.enc_cell(enc_input, (enc_states_h, enc_states_c))\n",
        "        outputs, (enc_states_h, enc_states_c) = self.dec_cell(dec_input, (enc_states_h, enc_states_c))\n",
        "        #model = self.log_softmax(self.fc(outputs))\n",
        "        model  = self.fc(outputs)\n",
        "        return model"
      ],
      "execution_count": 0,
      "outputs": []
    },
    {
      "cell_type": "code",
      "metadata": {
        "id": "XJMTEyzHDbGI",
        "colab_type": "code",
        "colab": {}
      },
      "source": [
        "model = Seq2Seq().cuda()\n",
        "criterion = nn.CrossEntropyLoss()\n",
        "optimizer = torch.optim.Adam(model.parameters(), lr=0.001)\n",
        "#optimizer = torch.optim.SGD(model.parameters(), lr=0.001, momentum=0.9)"
      ],
      "execution_count": 0,
      "outputs": []
    },
    {
      "cell_type": "code",
      "metadata": {
        "id": "w2JfyieaDdR6",
        "colab_type": "code",
        "outputId": "01f3f168-99b2-41f3-b859-4b7fee7d5180",
        "colab": {
          "base_uri": "https://localhost:8080/",
          "height": 461
        }
      },
      "source": [
        "h = Variable(torch.zeros(1, batch_size, n_hidden)).cuda()\n",
        "c = Variable(torch.zeros(1, batch_size, n_hidden)).cuda()\n",
        "\n",
        "for epoch in range(25):\n",
        "  for xb, yb, tb in train_dl:\n",
        "    \n",
        "    optimizer.zero_grad()\n",
        "\n",
        "    xb = xb.cuda()\n",
        "    yb = yb.cuda()\n",
        "    tb = tb.cuda()\n",
        "    \n",
        "    output = model(xb, h,c, yb)\n",
        "     \n",
        "    loss = 0\n",
        "        \n",
        "    for i in range(0, len(tb[0])):\n",
        "        loss += criterion(output[:,i], tb[:,i])\n",
        "    loss = loss / batch_size\n",
        "    loss.backward()\n",
        "    optimizer.step()\n",
        "  print('Epoch:', '%04d' % (epoch + 1), 'cost =', '{:.6f}'.format(loss))\n",
        "    "
      ],
      "execution_count": 122,
      "outputs": [
        {
          "output_type": "stream",
          "text": [
            "Epoch: 0001 cost = 0.976283\n",
            "Epoch: 0002 cost = 0.918425\n",
            "Epoch: 0003 cost = 0.889960\n",
            "Epoch: 0004 cost = 0.870611\n",
            "Epoch: 0005 cost = 0.854850\n",
            "Epoch: 0006 cost = 0.842090\n",
            "Epoch: 0007 cost = 0.831486\n",
            "Epoch: 0008 cost = 0.822628\n",
            "Epoch: 0009 cost = 0.813821\n",
            "Epoch: 0010 cost = 0.807702\n",
            "Epoch: 0011 cost = 0.800835\n",
            "Epoch: 0012 cost = 0.792649\n",
            "Epoch: 0013 cost = 0.785065\n",
            "Epoch: 0014 cost = 0.779071\n",
            "Epoch: 0015 cost = 0.772296\n",
            "Epoch: 0016 cost = 0.767003\n",
            "Epoch: 0017 cost = 0.762225\n",
            "Epoch: 0018 cost = 0.758035\n",
            "Epoch: 0019 cost = 0.754515\n",
            "Epoch: 0020 cost = 0.751335\n",
            "Epoch: 0021 cost = 0.748015\n",
            "Epoch: 0022 cost = 0.744522\n",
            "Epoch: 0023 cost = 0.741282\n",
            "Epoch: 0024 cost = 0.738521\n",
            "Epoch: 0025 cost = 0.735781\n"
          ],
          "name": "stdout"
        }
      ]
    }
  ]
}