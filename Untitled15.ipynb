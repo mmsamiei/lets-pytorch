{
  "nbformat": 4,
  "nbformat_minor": 0,
  "metadata": {
    "colab": {
      "name": "Untitled15.ipynb",
      "version": "0.3.2",
      "provenance": [],
      "collapsed_sections": [],
      "include_colab_link": true
    },
    "kernelspec": {
      "name": "python3",
      "display_name": "Python 3"
    },
    "accelerator": "GPU"
  },
  "cells": [
    {
      "cell_type": "markdown",
      "metadata": {
        "id": "view-in-github",
        "colab_type": "text"
      },
      "source": [
        "<a href=\"https://colab.research.google.com/github/mmsamiei/lets-pytorch/blob/master/Untitled15.ipynb\" target=\"_parent\"><img src=\"https://colab.research.google.com/assets/colab-badge.svg\" alt=\"Open In Colab\"/></a>"
      ]
    },
    {
      "cell_type": "code",
      "metadata": {
        "id": "hFe2Nn0Gh2zP",
        "colab_type": "code",
        "colab": {}
      },
      "source": [
        "import numpy as np\n",
        "import torch\n",
        "from torch.autograd import Variable"
      ],
      "execution_count": 0,
      "outputs": []
    },
    {
      "cell_type": "code",
      "metadata": {
        "id": "-4XWRfloI9KU",
        "colab_type": "code",
        "outputId": "7fc05e7a-f572-4b13-b540-03d3620f491b",
        "colab": {
          "base_uri": "https://localhost:8080/",
          "height": 35
        }
      },
      "source": [
        "from google.colab import drive\n",
        "drive.mount('/content/gdrive')"
      ],
      "execution_count": 0,
      "outputs": [
        {
          "output_type": "stream",
          "text": [
            "Drive already mounted at /content/gdrive; to attempt to forcibly remount, call drive.mount(\"/content/gdrive\", force_remount=True).\n"
          ],
          "name": "stdout"
        }
      ]
    },
    {
      "cell_type": "code",
      "metadata": {
        "id": "aV1oz9rqJex9",
        "colab_type": "code",
        "outputId": "d5a50d3c-ed07-4160-f129-cdefcd1b0b92",
        "colab": {
          "base_uri": "https://localhost:8080/",
          "height": 70
        }
      },
      "source": [
        "%cd gdrive/My\\ Drive/\n",
        "%cd datasets/\n",
        "%cd ./Ferdosi\n"
      ],
      "execution_count": 0,
      "outputs": [
        {
          "output_type": "stream",
          "text": [
            "/content/gdrive/My Drive\n",
            "/content/gdrive/My Drive/datasets\n",
            "/content/gdrive/My Drive/datasets/Ferdosi\n"
          ],
          "name": "stdout"
        }
      ]
    },
    {
      "cell_type": "code",
      "metadata": {
        "id": "kChfjmxxKa9a",
        "colab_type": "code",
        "colab": {}
      },
      "source": [
        "seq_data = []\n",
        "with open('ferdosi.txt', 'r') as fp:\n",
        "  for line in fp:\n",
        "    temp = line.rstrip(\"\\n\\r\").split(\",\")\n",
        "    seq_data.append(temp)"
      ],
      "execution_count": 0,
      "outputs": []
    },
    {
      "cell_type": "code",
      "metadata": {
        "id": "PmfdLl7kL_by",
        "colab_type": "code",
        "colab": {}
      },
      "source": [
        "char_array = []\n",
        "for beyt in seq_data:\n",
        "  for mesra in beyt:\n",
        "    for c in mesra:\n",
        "      if c not in char_array:\n",
        "        char_array.append(c)"
      ],
      "execution_count": 0,
      "outputs": []
    },
    {
      "cell_type": "code",
      "metadata": {
        "id": "j4vPqHvszhse",
        "colab_type": "code",
        "colab": {}
      },
      "source": [
        "char_array += ['P']"
      ],
      "execution_count": 0,
      "outputs": []
    },
    {
      "cell_type": "code",
      "metadata": {
        "id": "dmWo8qH9xLwT",
        "colab_type": "code",
        "outputId": "7a2bb217-fca3-4e6a-b460-9856fed05e26",
        "colab": {
          "base_uri": "https://localhost:8080/",
          "height": 692
        }
      },
      "source": [
        "char_array"
      ],
      "execution_count": 219,
      "outputs": [
        {
          "output_type": "execute_result",
          "data": {
            "text/plain": [
              "['ب',\n",
              " 'ه',\n",
              " ' ',\n",
              " 'ن',\n",
              " 'ا',\n",
              " 'م',\n",
              " 'خ',\n",
              " 'د',\n",
              " 'و',\n",
              " 'ج',\n",
              " 'ر',\n",
              " 'ک',\n",
              " 'ز',\n",
              " 'ی',\n",
              " 'ت',\n",
              " 'ش',\n",
              " 'گ',\n",
              " 'ذ',\n",
              " 'س',\n",
              " 'پ',\n",
              " 'ف',\n",
              " 'چ',\n",
              " 'ل',\n",
              " 'ژ',\n",
              " 'ص',\n",
              " 'غ',\n",
              " 'ح',\n",
              " 'ئ',\n",
              " 'ع',\n",
              " 'ط',\n",
              " 'ق',\n",
              " 'ث',\n",
              " 'ء',\n",
              " 'ض',\n",
              " 'ظ',\n",
              " 'أ',\n",
              " 'ؤ',\n",
              " 'P']"
            ]
          },
          "metadata": {
            "tags": []
          },
          "execution_count": 219
        }
      ]
    },
    {
      "cell_type": "code",
      "metadata": {
        "id": "WvacDOyfxaHl",
        "colab_type": "code",
        "colab": {}
      },
      "source": [
        "num_dictionary = {n: i for i, n in enumerate(char_array)}"
      ],
      "execution_count": 0,
      "outputs": []
    },
    {
      "cell_type": "code",
      "metadata": {
        "id": "vzTwMkoMxrUP",
        "colab_type": "code",
        "outputId": "2315de62-aa47-46b8-9c18-e2c3be0db402",
        "colab": {
          "base_uri": "https://localhost:8080/",
          "height": 53
        }
      },
      "source": [
        "print(max([len(mesra_avval) for mesra_avval in [beyt[0] for beyt in seq_data]]))\n",
        "print(max([len(mesra_dovom) for mesra_dovom in [beyt[1] for beyt in seq_data]]))"
      ],
      "execution_count": 221,
      "outputs": [
        {
          "output_type": "stream",
          "text": [
            "35\n",
            "35\n"
          ],
          "name": "stdout"
        }
      ]
    },
    {
      "cell_type": "code",
      "metadata": {
        "id": "iaNZG7yvzHnB",
        "colab_type": "code",
        "colab": {}
      },
      "source": [
        "# Seq2Seq Parameter\n",
        "n_step = 35\n",
        "n_hidden = 512\n",
        "n_class = len(num_dictionary)\n",
        "batch_size = 128"
      ],
      "execution_count": 0,
      "outputs": []
    },
    {
      "cell_type": "code",
      "metadata": {
        "id": "tC8gdQLBzSJV",
        "colab_type": "code",
        "colab": {}
      },
      "source": [
        "def make_data(seq_data):\n",
        "    input_batch, output_batch, target_batch = [], [], []\n",
        "\n",
        "    for seq in seq_data:\n",
        "        #for i in range(2):\n",
        "        #    seq[i] = seq[i] + 'P' * (n_step - len(seq[i]))\n",
        "\n",
        "        \n",
        "        seq[0] = seq[0] + 'P' * (n_step - len(seq[0]))\n",
        "        seq[1] = 'P' * (n_step - len(seq[1])) + seq[1] \n",
        "        \n",
        "        \n",
        "        input = [num_dictionary[n] for n in seq[0]]\n",
        "        output = [num_dictionary[n] for n in seq[1]]\n",
        "        target = [num_dictionary[n] for n in seq[1]]\n",
        "\n",
        "        input_batch.append(np.eye(n_class)[input])\n",
        "        output_batch.append(np.eye(n_class)[output])\n",
        "        target_batch.append(target) # not one-hot\n",
        "\n",
        "    # make tensor\n",
        "    return Variable(torch.Tensor(input_batch)), Variable(torch.Tensor(output_batch)), Variable(torch.LongTensor(target_batch))\n",
        "\n"
      ],
      "execution_count": 0,
      "outputs": []
    },
    {
      "cell_type": "code",
      "metadata": {
        "id": "7KBmh1pi42uI",
        "colab_type": "code",
        "outputId": "35cc0ed2-b074-49b9-a1c9-17ce5a149c26",
        "colab": {
          "base_uri": "https://localhost:8080/",
          "height": 35
        }
      },
      "source": [
        "x = make_data(seq_data)\n",
        "print(x[0].shape, x[1].shape, x[2].shape)"
      ],
      "execution_count": 228,
      "outputs": [
        {
          "output_type": "stream",
          "text": [
            "torch.Size([49609, 35, 38]) torch.Size([49609, 35, 38]) torch.Size([49609, 35])\n"
          ],
          "name": "stdout"
        }
      ]
    },
    {
      "cell_type": "code",
      "metadata": {
        "id": "yyfjkeMg5KZb",
        "colab_type": "code",
        "colab": {}
      },
      "source": [
        "from torch.utils.data import TensorDataset\n",
        "x,y,target = make_data(seq_data)\n",
        "train_ds = TensorDataset(x, y, target)"
      ],
      "execution_count": 0,
      "outputs": []
    },
    {
      "cell_type": "code",
      "metadata": {
        "id": "uAIL12SB5pys",
        "colab_type": "code",
        "colab": {}
      },
      "source": [
        "from torch.utils.data import DataLoader\n",
        "train_dl = DataLoader(train_ds, batch_size=batch_size,drop_last=True)"
      ],
      "execution_count": 0,
      "outputs": []
    },
    {
      "cell_type": "code",
      "metadata": {
        "id": "hcGre_Kzs_sF",
        "colab_type": "code",
        "outputId": "220bd11f-7249-4e48-8a23-1f4071f184c2",
        "colab": {
          "base_uri": "https://localhost:8080/",
          "height": 35
        }
      },
      "source": [
        "torch.cuda.is_available()"
      ],
      "execution_count": 231,
      "outputs": [
        {
          "output_type": "execute_result",
          "data": {
            "text/plain": [
              "True"
            ]
          },
          "metadata": {
            "tags": []
          },
          "execution_count": 231
        }
      ]
    },
    {
      "cell_type": "code",
      "metadata": {
        "id": "x1FBuKoz51Xc",
        "colab_type": "code",
        "colab": {}
      },
      "source": [
        "from torch import nn\n",
        "class Seq2Seq(nn.Module):\n",
        "    def __init__(self):\n",
        "        super(Seq2Seq, self).__init__()\n",
        "\n",
        "        #self.enc_cell = nn.RNN(input_size=n_class, hidden_size=n_hidden,batch_first=True)\n",
        "        #self.dec_cell = nn.RNN(input_size=n_class, hidden_size=n_hidden,batch_first=True)\n",
        "        \n",
        "        self.enc_cell = nn.LSTM(input_size=n_class, hidden_size=n_hidden,batch_first=True, dropout=0.5)\n",
        "        self.dec_cell = nn.LSTM(input_size=n_class, hidden_size=n_hidden,batch_first=True, dropout=0.5)\n",
        "        \n",
        "        self.fc = nn.Linear(n_hidden, n_class)\n",
        "        self.softmax = nn.LogSoftmax(dim=1)\n",
        "\n",
        "    def forward(self, enc_input, enc_states_h, enc_states_c, dec_input):\n",
        "      \n",
        "        _, (enc_states_h, enc_states_c) = self.enc_cell(enc_input, (enc_states_h, enc_states_c))\n",
        "        outputs, (enc_states_h, enc_states_c) = self.dec_cell(dec_input, (enc_states_h, enc_states_c))\n",
        "\n",
        "        model = self.softmax(self.fc(outputs))\n",
        "        return model"
      ],
      "execution_count": 0,
      "outputs": []
    },
    {
      "cell_type": "code",
      "metadata": {
        "id": "XJMTEyzHDbGI",
        "colab_type": "code",
        "outputId": "4f4ef9d4-de9b-4403-b58c-1fb19ce56641",
        "colab": {
          "base_uri": "https://localhost:8080/",
          "height": 73
        }
      },
      "source": [
        "model = Seq2Seq().cuda()\n",
        "criterion = nn.CrossEntropyLoss()\n",
        "optimizer = torch.optim.Adam(model.parameters(), lr=0.001)"
      ],
      "execution_count": 242,
      "outputs": [
        {
          "output_type": "stream",
          "text": [
            "/usr/local/lib/python3.6/dist-packages/torch/nn/modules/rnn.py:54: UserWarning: dropout option adds dropout after all but last recurrent layer, so non-zero dropout expects num_layers greater than 1, but got dropout=0.5 and num_layers=1\n",
            "  \"num_layers={}\".format(dropout, num_layers))\n"
          ],
          "name": "stderr"
        }
      ]
    },
    {
      "cell_type": "code",
      "metadata": {
        "id": "w2JfyieaDdR6",
        "colab_type": "code",
        "outputId": "996280c2-a67e-499e-c152-1937dcbcc72e",
        "colab": {
          "base_uri": "https://localhost:8080/",
          "height": 621
        }
      },
      "source": [
        "h = Variable(torch.zeros(1, batch_size, n_hidden)).cuda()\n",
        "c = Variable(torch.zeros(1, batch_size, n_hidden)).cuda()\n",
        "\n",
        "for epoch in range(50):\n",
        "  for xb, yb, tb in train_dl:\n",
        "    \n",
        "    optimizer.zero_grad()\n",
        "\n",
        "    xb = xb.cuda()\n",
        "    yb = yb.cuda()\n",
        "    tb = tb.cuda()\n",
        "    \n",
        "    output = model(xb, h,c, yb)\n",
        "   \n",
        "    loss = 0\n",
        "        \n",
        "    for i in range(0, len(tb)):\n",
        "        loss += criterion(output[i], tb[i])\n",
        "    loss = loss / batch_size\n",
        "    loss.backward()\n",
        "    optimizer.step()\n",
        "  print('Epoch:', '%04d' % (epoch + 1), 'cost =', '{:.6f}'.format(loss))\n",
        "    "
      ],
      "execution_count": 0,
      "outputs": [
        {
          "output_type": "stream",
          "text": [
            "Epoch: 0001 cost = 0.123279\n",
            "Epoch: 0002 cost = 0.103942\n",
            "Epoch: 0003 cost = 0.097105\n",
            "Epoch: 0004 cost = 0.095020\n",
            "Epoch: 0005 cost = 0.094042\n",
            "Epoch: 0006 cost = 0.093496\n",
            "Epoch: 0007 cost = 0.093153\n",
            "Epoch: 0008 cost = 0.092919\n",
            "Epoch: 0009 cost = 0.092749\n",
            "Epoch: 0010 cost = 0.092628\n",
            "Epoch: 0011 cost = 0.092539\n",
            "Epoch: 0012 cost = 0.092470\n",
            "Epoch: 0013 cost = 0.092418\n",
            "Epoch: 0014 cost = 0.092377\n",
            "Epoch: 0015 cost = 0.092345\n",
            "Epoch: 0016 cost = 0.092319\n",
            "Epoch: 0017 cost = 0.092287\n",
            "Epoch: 0018 cost = 0.092268\n",
            "Epoch: 0019 cost = 0.092254\n",
            "Epoch: 0020 cost = 0.092244\n",
            "Epoch: 0021 cost = 0.092235\n",
            "Epoch: 0022 cost = 0.092228\n",
            "Epoch: 0023 cost = 0.092223\n",
            "Epoch: 0024 cost = 0.092219\n",
            "Epoch: 0025 cost = 0.092215\n",
            "Epoch: 0026 cost = 0.092212\n",
            "Epoch: 0027 cost = 0.092210\n",
            "Epoch: 0028 cost = 0.092216\n",
            "Epoch: 0029 cost = 0.096711\n",
            "Epoch: 0030 cost = 0.094683\n",
            "Epoch: 0031 cost = 0.093474\n",
            "Epoch: 0032 cost = 0.092973\n",
            "Epoch: 0033 cost = 0.092825\n",
            "Epoch: 0034 cost = 0.092651\n"
          ],
          "name": "stdout"
        }
      ]
    },
    {
      "cell_type": "code",
      "metadata": {
        "id": "hyQq2JHM6sOm",
        "colab_type": "code",
        "colab": {
          "base_uri": "https://localhost:8080/",
          "height": 692
        },
        "outputId": "c7f6204f-dc47-434b-81b9-eea92a10df75"
      },
      "source": [
        "num_dictionary"
      ],
      "execution_count": 200,
      "outputs": [
        {
          "output_type": "execute_result",
          "data": {
            "text/plain": [
              "{' ': 2,\n",
              " 'P': 37,\n",
              " 'ء': 32,\n",
              " 'أ': 35,\n",
              " 'ؤ': 36,\n",
              " 'ئ': 27,\n",
              " 'ا': 4,\n",
              " 'ب': 0,\n",
              " 'ت': 14,\n",
              " 'ث': 31,\n",
              " 'ج': 9,\n",
              " 'ح': 26,\n",
              " 'خ': 6,\n",
              " 'د': 7,\n",
              " 'ذ': 17,\n",
              " 'ر': 10,\n",
              " 'ز': 12,\n",
              " 'س': 18,\n",
              " 'ش': 15,\n",
              " 'ص': 24,\n",
              " 'ض': 33,\n",
              " 'ط': 29,\n",
              " 'ظ': 34,\n",
              " 'ع': 28,\n",
              " 'غ': 25,\n",
              " 'ف': 20,\n",
              " 'ق': 30,\n",
              " 'ل': 22,\n",
              " 'م': 5,\n",
              " 'ن': 3,\n",
              " 'ه': 1,\n",
              " 'و': 8,\n",
              " 'پ': 19,\n",
              " 'چ': 21,\n",
              " 'ژ': 23,\n",
              " 'ک': 11,\n",
              " 'گ': 16,\n",
              " 'ی': 13}"
            ]
          },
          "metadata": {
            "tags": []
          },
          "execution_count": 200
        }
      ]
    }
  ]
}