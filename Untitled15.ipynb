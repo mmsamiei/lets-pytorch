{
  "nbformat": 4,
  "nbformat_minor": 0,
  "metadata": {
    "colab": {
      "name": "Untitled15.ipynb",
      "version": "0.3.2",
      "provenance": [],
      "include_colab_link": true
    },
    "kernelspec": {
      "name": "python3",
      "display_name": "Python 3"
    },
    "accelerator": "GPU"
  },
  "cells": [
    {
      "cell_type": "markdown",
      "metadata": {
        "id": "view-in-github",
        "colab_type": "text"
      },
      "source": [
        "<a href=\"https://colab.research.google.com/github/mmsamiei/lets-pytorch/blob/master/Untitled15.ipynb\" target=\"_parent\"><img src=\"https://colab.research.google.com/assets/colab-badge.svg\" alt=\"Open In Colab\"/></a>"
      ]
    },
    {
      "cell_type": "code",
      "metadata": {
        "id": "hFe2Nn0Gh2zP",
        "colab_type": "code",
        "colab": {}
      },
      "source": [
        "import numpy as np\n",
        "import torch\n",
        "from torch.autograd import Variable"
      ],
      "execution_count": 0,
      "outputs": []
    },
    {
      "cell_type": "code",
      "metadata": {
        "id": "-4XWRfloI9KU",
        "colab_type": "code",
        "outputId": "7fc05e7a-f572-4b13-b540-03d3620f491b",
        "colab": {
          "base_uri": "https://localhost:8080/",
          "height": 35
        }
      },
      "source": [
        "from google.colab import drive\n",
        "drive.mount('/content/gdrive')"
      ],
      "execution_count": 2,
      "outputs": [
        {
          "output_type": "stream",
          "text": [
            "Drive already mounted at /content/gdrive; to attempt to forcibly remount, call drive.mount(\"/content/gdrive\", force_remount=True).\n"
          ],
          "name": "stdout"
        }
      ]
    },
    {
      "cell_type": "code",
      "metadata": {
        "id": "aV1oz9rqJex9",
        "colab_type": "code",
        "outputId": "d5a50d3c-ed07-4160-f129-cdefcd1b0b92",
        "colab": {
          "base_uri": "https://localhost:8080/",
          "height": 70
        }
      },
      "source": [
        "%cd gdrive/My\\ Drive/\n",
        "%cd datasets/\n",
        "%cd ./Ferdosi\n"
      ],
      "execution_count": 3,
      "outputs": [
        {
          "output_type": "stream",
          "text": [
            "/content/gdrive/My Drive\n",
            "/content/gdrive/My Drive/datasets\n",
            "/content/gdrive/My Drive/datasets/Ferdosi\n"
          ],
          "name": "stdout"
        }
      ]
    },
    {
      "cell_type": "code",
      "metadata": {
        "id": "kChfjmxxKa9a",
        "colab_type": "code",
        "colab": {}
      },
      "source": [
        "seq_data = []\n",
        "with open('ferdosi.txt', 'r') as fp:\n",
        "  for line in fp:\n",
        "    temp = line.rstrip(\"\\n\\r\").split(\",\")\n",
        "    seq_data.append(temp)"
      ],
      "execution_count": 0,
      "outputs": []
    },
    {
      "cell_type": "code",
      "metadata": {
        "id": "PmfdLl7kL_by",
        "colab_type": "code",
        "colab": {}
      },
      "source": [
        "char_array = []\n",
        "for beyt in seq_data:\n",
        "  for mesra in beyt:\n",
        "    for c in mesra:\n",
        "      if c not in char_array:\n",
        "        char_array.append(c)"
      ],
      "execution_count": 0,
      "outputs": []
    },
    {
      "cell_type": "code",
      "metadata": {
        "id": "j4vPqHvszhse",
        "colab_type": "code",
        "colab": {}
      },
      "source": [
        "char_array += ['P']"
      ],
      "execution_count": 0,
      "outputs": []
    },
    {
      "cell_type": "code",
      "metadata": {
        "id": "dmWo8qH9xLwT",
        "colab_type": "code",
        "outputId": "f1647534-2ed4-421f-dae5-8fe98b414080",
        "colab": {
          "base_uri": "https://localhost:8080/",
          "height": 692
        }
      },
      "source": [
        "char_array"
      ],
      "execution_count": 7,
      "outputs": [
        {
          "output_type": "execute_result",
          "data": {
            "text/plain": [
              "['ب',\n",
              " 'ه',\n",
              " ' ',\n",
              " 'ن',\n",
              " 'ا',\n",
              " 'م',\n",
              " 'خ',\n",
              " 'د',\n",
              " 'و',\n",
              " 'ج',\n",
              " 'ر',\n",
              " 'ک',\n",
              " 'ز',\n",
              " 'ی',\n",
              " 'ت',\n",
              " 'ش',\n",
              " 'گ',\n",
              " 'ذ',\n",
              " 'س',\n",
              " 'پ',\n",
              " 'ف',\n",
              " 'چ',\n",
              " 'ل',\n",
              " 'ژ',\n",
              " 'ص',\n",
              " 'غ',\n",
              " 'ح',\n",
              " 'ئ',\n",
              " 'ع',\n",
              " 'ط',\n",
              " 'ق',\n",
              " 'ث',\n",
              " 'ء',\n",
              " 'ض',\n",
              " 'ظ',\n",
              " 'أ',\n",
              " 'ؤ',\n",
              " 'P']"
            ]
          },
          "metadata": {
            "tags": []
          },
          "execution_count": 7
        }
      ]
    },
    {
      "cell_type": "code",
      "metadata": {
        "id": "WvacDOyfxaHl",
        "colab_type": "code",
        "colab": {}
      },
      "source": [
        "num_dictionary = {n: i for i, n in enumerate(char_array)}"
      ],
      "execution_count": 0,
      "outputs": []
    },
    {
      "cell_type": "code",
      "metadata": {
        "id": "vzTwMkoMxrUP",
        "colab_type": "code",
        "outputId": "e48dd535-a01d-4205-aca6-f1ba22b7f37c",
        "colab": {
          "base_uri": "https://localhost:8080/",
          "height": 53
        }
      },
      "source": [
        "print(max([len(mesra_avval) for mesra_avval in [beyt[0] for beyt in seq_data]]))\n",
        "print(max([len(mesra_dovom) for mesra_dovom in [beyt[1] for beyt in seq_data]]))"
      ],
      "execution_count": 9,
      "outputs": [
        {
          "output_type": "stream",
          "text": [
            "35\n",
            "35\n"
          ],
          "name": "stdout"
        }
      ]
    },
    {
      "cell_type": "code",
      "metadata": {
        "id": "iaNZG7yvzHnB",
        "colab_type": "code",
        "colab": {}
      },
      "source": [
        "# Seq2Seq Parameter\n",
        "n_step = 35\n",
        "n_hidden = 128\n",
        "n_class = len(num_dictionary)\n",
        "batch_size = 64"
      ],
      "execution_count": 0,
      "outputs": []
    },
    {
      "cell_type": "code",
      "metadata": {
        "id": "tC8gdQLBzSJV",
        "colab_type": "code",
        "colab": {}
      },
      "source": [
        "def make_data(seq_data):\n",
        "    input_batch, output_batch, target_batch = [], [], []\n",
        "\n",
        "    for seq in seq_data:\n",
        "        for i in range(2):\n",
        "            seq[i] = seq[i] + 'P' * (n_step - len(seq[i]))\n",
        "\n",
        "        input = [num_dictionary[n] for n in seq[0]]\n",
        "        output = [num_dictionary[n] for n in seq[1]]\n",
        "        target = [num_dictionary[n] for n in seq[1]]\n",
        "\n",
        "        input_batch.append(np.eye(n_class)[input])\n",
        "        output_batch.append(np.eye(n_class)[output])\n",
        "        target_batch.append(target) # not one-hot\n",
        "\n",
        "    # make tensor\n",
        "    return Variable(torch.Tensor(input_batch)), Variable(torch.Tensor(output_batch)), Variable(torch.LongTensor(target_batch))\n",
        "\n"
      ],
      "execution_count": 0,
      "outputs": []
    },
    {
      "cell_type": "code",
      "metadata": {
        "id": "7KBmh1pi42uI",
        "colab_type": "code",
        "outputId": "bb86b398-5f75-4a04-e5c4-6ff53943d77d",
        "colab": {
          "base_uri": "https://localhost:8080/",
          "height": 35
        }
      },
      "source": [
        "x = make_data(seq_data)\n",
        "print(x[0].shape, x[1].shape, x[2].shape)"
      ],
      "execution_count": 15,
      "outputs": [
        {
          "output_type": "stream",
          "text": [
            "torch.Size([49609, 35, 38]) torch.Size([49609, 35, 38]) torch.Size([49609, 35])\n"
          ],
          "name": "stdout"
        }
      ]
    },
    {
      "cell_type": "code",
      "metadata": {
        "id": "yyfjkeMg5KZb",
        "colab_type": "code",
        "colab": {}
      },
      "source": [
        "from torch.utils.data import TensorDataset\n",
        "x,y,target = make_data(seq_data)\n",
        "train_ds = TensorDataset(x, y, target)"
      ],
      "execution_count": 0,
      "outputs": []
    },
    {
      "cell_type": "code",
      "metadata": {
        "id": "uAIL12SB5pys",
        "colab_type": "code",
        "colab": {}
      },
      "source": [
        "from torch.utils.data import DataLoader\n",
        "train_dl = DataLoader(train_ds, batch_size=batch_size,drop_last=True)"
      ],
      "execution_count": 0,
      "outputs": []
    },
    {
      "cell_type": "code",
      "metadata": {
        "id": "x1FBuKoz51Xc",
        "colab_type": "code",
        "colab": {}
      },
      "source": [
        "from torch import nn\n",
        "class Seq2Seq(nn.Module):\n",
        "    def __init__(self):\n",
        "        super(Seq2Seq, self).__init__()\n",
        "\n",
        "        self.enc_cell = nn.RNN(input_size=n_class, hidden_size=n_hidden,batch_first=True)\n",
        "        self.dec_cell = nn.RNN(input_size=n_class, hidden_size=n_hidden,batch_first=True)\n",
        "        self.fc = nn.Linear(n_hidden, n_class)\n",
        "        self.softmax = nn.Softmax()\n",
        "\n",
        "    def forward(self, enc_input, enc_hidden, dec_input):\n",
        "      \n",
        "        _, enc_states = self.enc_cell(enc_input, enc_hidden)\n",
        "        outputs, _ = self.dec_cell(dec_input, enc_states)\n",
        "\n",
        "        model = self.softmax(self.fc(outputs))\n",
        "        return model"
      ],
      "execution_count": 0,
      "outputs": []
    },
    {
      "cell_type": "code",
      "metadata": {
        "id": "XJMTEyzHDbGI",
        "colab_type": "code",
        "colab": {}
      },
      "source": [
        "model = Seq2Seq()\n",
        "criterion = nn.CrossEntropyLoss()\n",
        "optimizer = torch.optim.Adam(model.parameters(), lr=0.01)"
      ],
      "execution_count": 0,
      "outputs": []
    },
    {
      "cell_type": "code",
      "metadata": {
        "id": "w2JfyieaDdR6",
        "colab_type": "code",
        "outputId": "0c8ff339-88a4-4eea-ffdd-08ca8478be8c",
        "colab": {
          "base_uri": "https://localhost:8080/",
          "height": 481
        }
      },
      "source": [
        "for epoch in range(5):\n",
        "  hidden = Variable(torch.zeros(1, batch_size, n_hidden))\n",
        "  for xb, yb, tb in train_dl:\n",
        "    \n",
        "    optimizer.zero_grad()\n",
        "\n",
        "    \n",
        "    output = model(xb, hidden, yb)\n",
        "        \n",
        "    loss = 0\n",
        "        \n",
        "    for i in range(0, len(tb)):\n",
        "        loss += criterion(output[i], tb[i])\n",
        "    loss.backward()\n",
        "    optimizer.step()\n",
        "  print('Epoch:', '%04d' % (epoch + 1), 'cost =', '{:.6f}'.format(loss))\n",
        "    "
      ],
      "execution_count": 55,
      "outputs": [
        {
          "output_type": "stream",
          "text": [
            "/usr/local/lib/python3.6/dist-packages/ipykernel_launcher.py:16: UserWarning: Implicit dimension choice for softmax has been deprecated. Change the call to include dim=X as an argument.\n",
            "  app.launch_new_instance()\n"
          ],
          "name": "stderr"
        },
        {
          "output_type": "stream",
          "text": [
            "Epoch: 0001 cost = 220.601608\n",
            "Epoch: 0002 cost = 220.600739\n"
          ],
          "name": "stdout"
        },
        {
          "output_type": "error",
          "ename": "KeyboardInterrupt",
          "evalue": "ignored",
          "traceback": [
            "\u001b[0;31m---------------------------------------------------------------------------\u001b[0m",
            "\u001b[0;31mKeyboardInterrupt\u001b[0m                         Traceback (most recent call last)",
            "\u001b[0;32m<ipython-input-55-a0a594df4d7c>\u001b[0m in \u001b[0;36m<module>\u001b[0;34m()\u001b[0m\n\u001b[1;32m     12\u001b[0m     \u001b[0;32mfor\u001b[0m \u001b[0mi\u001b[0m \u001b[0;32min\u001b[0m \u001b[0mrange\u001b[0m\u001b[0;34m(\u001b[0m\u001b[0;36m0\u001b[0m\u001b[0;34m,\u001b[0m \u001b[0mlen\u001b[0m\u001b[0;34m(\u001b[0m\u001b[0mtb\u001b[0m\u001b[0;34m)\u001b[0m\u001b[0;34m)\u001b[0m\u001b[0;34m:\u001b[0m\u001b[0;34m\u001b[0m\u001b[0;34m\u001b[0m\u001b[0m\n\u001b[1;32m     13\u001b[0m         \u001b[0mloss\u001b[0m \u001b[0;34m+=\u001b[0m \u001b[0mcriterion\u001b[0m\u001b[0;34m(\u001b[0m\u001b[0moutput\u001b[0m\u001b[0;34m[\u001b[0m\u001b[0mi\u001b[0m\u001b[0;34m]\u001b[0m\u001b[0;34m,\u001b[0m \u001b[0mtb\u001b[0m\u001b[0;34m[\u001b[0m\u001b[0mi\u001b[0m\u001b[0;34m]\u001b[0m\u001b[0;34m)\u001b[0m\u001b[0;34m\u001b[0m\u001b[0;34m\u001b[0m\u001b[0m\n\u001b[0;32m---> 14\u001b[0;31m     \u001b[0mloss\u001b[0m\u001b[0;34m.\u001b[0m\u001b[0mbackward\u001b[0m\u001b[0;34m(\u001b[0m\u001b[0;34m)\u001b[0m\u001b[0;34m\u001b[0m\u001b[0;34m\u001b[0m\u001b[0m\n\u001b[0m\u001b[1;32m     15\u001b[0m     \u001b[0moptimizer\u001b[0m\u001b[0;34m.\u001b[0m\u001b[0mstep\u001b[0m\u001b[0;34m(\u001b[0m\u001b[0;34m)\u001b[0m\u001b[0;34m\u001b[0m\u001b[0;34m\u001b[0m\u001b[0m\n\u001b[1;32m     16\u001b[0m   \u001b[0mprint\u001b[0m\u001b[0;34m(\u001b[0m\u001b[0;34m'Epoch:'\u001b[0m\u001b[0;34m,\u001b[0m \u001b[0;34m'%04d'\u001b[0m \u001b[0;34m%\u001b[0m \u001b[0;34m(\u001b[0m\u001b[0mepoch\u001b[0m \u001b[0;34m+\u001b[0m \u001b[0;36m1\u001b[0m\u001b[0;34m)\u001b[0m\u001b[0;34m,\u001b[0m \u001b[0;34m'cost ='\u001b[0m\u001b[0;34m,\u001b[0m \u001b[0;34m'{:.6f}'\u001b[0m\u001b[0;34m.\u001b[0m\u001b[0mformat\u001b[0m\u001b[0;34m(\u001b[0m\u001b[0mloss\u001b[0m\u001b[0;34m)\u001b[0m\u001b[0;34m)\u001b[0m\u001b[0;34m\u001b[0m\u001b[0;34m\u001b[0m\u001b[0m\n",
            "\u001b[0;32m/usr/local/lib/python3.6/dist-packages/torch/tensor.py\u001b[0m in \u001b[0;36mbackward\u001b[0;34m(self, gradient, retain_graph, create_graph)\u001b[0m\n\u001b[1;32m    105\u001b[0m                 \u001b[0mproducts\u001b[0m\u001b[0;34m.\u001b[0m \u001b[0mDefaults\u001b[0m \u001b[0mto\u001b[0m\u001b[0;31m \u001b[0m\u001b[0;31m`\u001b[0m\u001b[0;31m`\u001b[0m\u001b[0;32mFalse\u001b[0m\u001b[0;31m`\u001b[0m\u001b[0;31m`\u001b[0m\u001b[0;34m.\u001b[0m\u001b[0;34m\u001b[0m\u001b[0;34m\u001b[0m\u001b[0m\n\u001b[1;32m    106\u001b[0m         \"\"\"\n\u001b[0;32m--> 107\u001b[0;31m         \u001b[0mtorch\u001b[0m\u001b[0;34m.\u001b[0m\u001b[0mautograd\u001b[0m\u001b[0;34m.\u001b[0m\u001b[0mbackward\u001b[0m\u001b[0;34m(\u001b[0m\u001b[0mself\u001b[0m\u001b[0;34m,\u001b[0m \u001b[0mgradient\u001b[0m\u001b[0;34m,\u001b[0m \u001b[0mretain_graph\u001b[0m\u001b[0;34m,\u001b[0m \u001b[0mcreate_graph\u001b[0m\u001b[0;34m)\u001b[0m\u001b[0;34m\u001b[0m\u001b[0;34m\u001b[0m\u001b[0m\n\u001b[0m\u001b[1;32m    108\u001b[0m \u001b[0;34m\u001b[0m\u001b[0m\n\u001b[1;32m    109\u001b[0m     \u001b[0;32mdef\u001b[0m \u001b[0mregister_hook\u001b[0m\u001b[0;34m(\u001b[0m\u001b[0mself\u001b[0m\u001b[0;34m,\u001b[0m \u001b[0mhook\u001b[0m\u001b[0;34m)\u001b[0m\u001b[0;34m:\u001b[0m\u001b[0;34m\u001b[0m\u001b[0;34m\u001b[0m\u001b[0m\n",
            "\u001b[0;32m/usr/local/lib/python3.6/dist-packages/torch/autograd/__init__.py\u001b[0m in \u001b[0;36mbackward\u001b[0;34m(tensors, grad_tensors, retain_graph, create_graph, grad_variables)\u001b[0m\n\u001b[1;32m     91\u001b[0m     Variable._execution_engine.run_backward(\n\u001b[1;32m     92\u001b[0m         \u001b[0mtensors\u001b[0m\u001b[0;34m,\u001b[0m \u001b[0mgrad_tensors\u001b[0m\u001b[0;34m,\u001b[0m \u001b[0mretain_graph\u001b[0m\u001b[0;34m,\u001b[0m \u001b[0mcreate_graph\u001b[0m\u001b[0;34m,\u001b[0m\u001b[0;34m\u001b[0m\u001b[0;34m\u001b[0m\u001b[0m\n\u001b[0;32m---> 93\u001b[0;31m         allow_unreachable=True)  # allow_unreachable flag\n\u001b[0m\u001b[1;32m     94\u001b[0m \u001b[0;34m\u001b[0m\u001b[0m\n\u001b[1;32m     95\u001b[0m \u001b[0;34m\u001b[0m\u001b[0m\n",
            "\u001b[0;31mKeyboardInterrupt\u001b[0m: "
          ]
        }
      ]
    },
    {
      "cell_type": "code",
      "metadata": {
        "id": "iRKuuzsaJGhT",
        "colab_type": "code",
        "colab": {}
      },
      "source": [
        "# Test\n",
        "def translate(word):\n",
        "    input_batch, output_batch, _ = make_data([[word, 'P' * len(word)]])\n",
        "\n",
        "    # make hidden shape [num_layers * num_directions, batch_size, n_hidden]\n",
        "    hidden = Variable(torch.zeros(1, 1, n_hidden))\n",
        "    output = model(input_batch, hidden, output_batch)\n",
        "    # output : [max_len+1(=6), batch_size(=1), n_class]\n",
        "\n",
        "    predict = output.data.max(2, keepdim=True)[1] # select n_class dimension\n",
        "    print(predict)\n",
        "    decoded = [char_array[i] for i in predict]\n",
        "    translated = ''.join(decoded)\n",
        "\n",
        "    return translated.replace('P', '')"
      ],
      "execution_count": 0,
      "outputs": []
    },
    {
      "cell_type": "code",
      "metadata": {
        "id": "cwI9CAvMJjqu",
        "colab_type": "code",
        "outputId": "e1b93096-7990-42a6-f425-12bf38529bcb",
        "colab": {
          "base_uri": "https://localhost:8080/",
          "height": 1260
        }
      },
      "source": [
        "print('man ->', translate('زی تیر نگه کرد و پر خویش در ان دید'))"
      ],
      "execution_count": 0,
      "outputs": [
        {
          "output_type": "stream",
          "text": [
            "tensor([[[ 2]],\n",
            "\n",
            "        [[37]],\n",
            "\n",
            "        [[37]],\n",
            "\n",
            "        [[37]],\n",
            "\n",
            "        [[37]],\n",
            "\n",
            "        [[37]],\n",
            "\n",
            "        [[37]],\n",
            "\n",
            "        [[37]],\n",
            "\n",
            "        [[37]],\n",
            "\n",
            "        [[37]],\n",
            "\n",
            "        [[37]],\n",
            "\n",
            "        [[37]],\n",
            "\n",
            "        [[37]],\n",
            "\n",
            "        [[37]],\n",
            "\n",
            "        [[37]],\n",
            "\n",
            "        [[37]],\n",
            "\n",
            "        [[37]],\n",
            "\n",
            "        [[37]],\n",
            "\n",
            "        [[37]],\n",
            "\n",
            "        [[37]],\n",
            "\n",
            "        [[37]],\n",
            "\n",
            "        [[37]],\n",
            "\n",
            "        [[37]],\n",
            "\n",
            "        [[37]],\n",
            "\n",
            "        [[37]],\n",
            "\n",
            "        [[37]],\n",
            "\n",
            "        [[37]],\n",
            "\n",
            "        [[37]],\n",
            "\n",
            "        [[37]],\n",
            "\n",
            "        [[37]],\n",
            "\n",
            "        [[37]],\n",
            "\n",
            "        [[37]],\n",
            "\n",
            "        [[37]],\n",
            "\n",
            "        [[37]],\n",
            "\n",
            "        [[37]]])\n",
            "man ->  \n"
          ],
          "name": "stdout"
        }
      ]
    }
  ]
}