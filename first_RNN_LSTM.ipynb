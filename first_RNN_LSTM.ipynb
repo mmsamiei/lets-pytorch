{
  "nbformat": 4,
  "nbformat_minor": 0,
  "metadata": {
    "colab": {
      "name": "first_RNN_LSTM.ipynb",
      "version": "0.3.2",
      "provenance": [],
      "include_colab_link": true
    },
    "kernelspec": {
      "name": "python3",
      "display_name": "Python 3"
    }
  },
  "cells": [
    {
      "cell_type": "markdown",
      "metadata": {
        "id": "view-in-github",
        "colab_type": "text"
      },
      "source": [
        "<a href=\"https://colab.research.google.com/github/mmsamiei/lets-pytorch/blob/master/first_RNN_LSTM.ipynb\" target=\"_parent\"><img src=\"https://colab.research.google.com/assets/colab-badge.svg\" alt=\"Open In Colab\"/></a>"
      ]
    },
    {
      "cell_type": "code",
      "metadata": {
        "id": "NKy0bJ12T0rK",
        "colab_type": "code",
        "colab": {}
      },
      "source": [
        "import torch"
      ],
      "execution_count": 0,
      "outputs": []
    },
    {
      "cell_type": "code",
      "metadata": {
        "id": "HybzMP26VFp3",
        "colab_type": "code",
        "colab": {}
      },
      "source": [
        "batch_size = 32\n",
        "seq_len = 10\n",
        "input_size = 2\n",
        "hidden_size = 5\n",
        "num_of_recurrent_layer = 1"
      ],
      "execution_count": 0,
      "outputs": []
    },
    {
      "cell_type": "markdown",
      "metadata": {
        "id": "pgYFdEteZBlv",
        "colab_type": "text"
      },
      "source": [
        "**RNN CELL**"
      ]
    },
    {
      "cell_type": "code",
      "metadata": {
        "id": "NuuwWUxlVRSv",
        "colab_type": "code",
        "colab": {}
      },
      "source": [
        "X = torch.randn(batch_size, seq_len, input_size)\n",
        "hidden = torch.zeros((num_of_recurrent_layer, batch_size, hidden_size))"
      ],
      "execution_count": 0,
      "outputs": []
    },
    {
      "cell_type": "code",
      "metadata": {
        "id": "ZlOMeaZSVzV8",
        "colab_type": "code",
        "colab": {}
      },
      "source": [
        "cell = torch.nn.RNN(input_size, hidden_size, batch_first = True)"
      ],
      "execution_count": 0,
      "outputs": []
    },
    {
      "cell_type": "code",
      "metadata": {
        "id": "gU2NOHxoYepZ",
        "colab_type": "code",
        "colab": {
          "base_uri": "https://localhost:8080/",
          "height": 35
        },
        "outputId": "d11fd7c9-9a34-4510-de3c-40193a01468a"
      },
      "source": [
        "hidden.shape"
      ],
      "execution_count": 48,
      "outputs": [
        {
          "output_type": "execute_result",
          "data": {
            "text/plain": [
              "torch.Size([1, 32, 5])"
            ]
          },
          "metadata": {
            "tags": []
          },
          "execution_count": 48
        }
      ]
    },
    {
      "cell_type": "code",
      "metadata": {
        "id": "AmDIPUIyV-Gq",
        "colab_type": "code",
        "colab": {}
      },
      "source": [
        "out, hidden = cell(X, hidden)"
      ],
      "execution_count": 0,
      "outputs": []
    },
    {
      "cell_type": "code",
      "metadata": {
        "id": "5550FQhiY30A",
        "colab_type": "code",
        "colab": {
          "base_uri": "https://localhost:8080/",
          "height": 35
        },
        "outputId": "6cea4bf9-a53f-4b97-b966-cc0a282ef756"
      },
      "source": [
        "out.shape"
      ],
      "execution_count": 50,
      "outputs": [
        {
          "output_type": "execute_result",
          "data": {
            "text/plain": [
              "torch.Size([32, 10, 5])"
            ]
          },
          "metadata": {
            "tags": []
          },
          "execution_count": 50
        }
      ]
    },
    {
      "cell_type": "markdown",
      "metadata": {
        "id": "SqwsaldmZIlA",
        "colab_type": "text"
      },
      "source": [
        "**LSTM**"
      ]
    },
    {
      "cell_type": "code",
      "metadata": {
        "id": "bhHViaWyZj7z",
        "colab_type": "code",
        "colab": {}
      },
      "source": [
        "X = torch.randn(batch_size, seq_len, input_size)\n",
        "h = torch.zeros((num_of_recurrent_layer, batch_size, hidden_size))\n",
        "c = torch.zeros((num_of_recurrent_layer, batch_size, hidden_size))"
      ],
      "execution_count": 0,
      "outputs": []
    },
    {
      "cell_type": "code",
      "metadata": {
        "id": "veCAxTPCZoCp",
        "colab_type": "code",
        "colab": {}
      },
      "source": [
        "cell = torch.nn.LSTM(input_size, hidden_size, batch_first = True)"
      ],
      "execution_count": 0,
      "outputs": []
    },
    {
      "cell_type": "code",
      "metadata": {
        "id": "37QGSabHZtqo",
        "colab_type": "code",
        "colab": {}
      },
      "source": [
        "out, (h,c) = cell(X, (h,c))"
      ],
      "execution_count": 0,
      "outputs": []
    },
    {
      "cell_type": "code",
      "metadata": {
        "id": "YjW9KXAJcQ8q",
        "colab_type": "code",
        "colab": {
          "base_uri": "https://localhost:8080/",
          "height": 35
        },
        "outputId": "eaddc042-d241-44a4-dd90-ab7ba78d91c8"
      },
      "source": [
        "out.shape"
      ],
      "execution_count": 58,
      "outputs": [
        {
          "output_type": "execute_result",
          "data": {
            "text/plain": [
              "torch.Size([32, 10, 5])"
            ]
          },
          "metadata": {
            "tags": []
          },
          "execution_count": 58
        }
      ]
    }
  ]
}