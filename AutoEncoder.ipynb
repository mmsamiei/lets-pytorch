{
  "nbformat": 4,
  "nbformat_minor": 0,
  "metadata": {
    "colab": {
      "name": "AutoEncoder.ipynb",
      "version": "0.3.2",
      "provenance": [],
      "collapsed_sections": [],
      "include_colab_link": true
    },
    "kernelspec": {
      "name": "python3",
      "display_name": "Python 3"
    }
  },
  "cells": [
    {
      "cell_type": "markdown",
      "metadata": {
        "id": "view-in-github",
        "colab_type": "text"
      },
      "source": [
        "<a href=\"https://colab.research.google.com/github/mmsamiei/lets-pytorch/blob/master/AutoEncoder.ipynb\" target=\"_parent\"><img src=\"https://colab.research.google.com/assets/colab-badge.svg\" alt=\"Open In Colab\"/></a>"
      ]
    },
    {
      "cell_type": "code",
      "metadata": {
        "id": "YJgB7Fs2ADB4",
        "colab_type": "code",
        "colab": {}
      },
      "source": [
        "import numpy as np\n",
        "\n",
        "num_data = 6400\n",
        "x = np.random.uniform(low =-1, high=1, size=num_data)\n",
        "x = np.concatenate((x,x))\n",
        "y = np.zeros_like(x)\n",
        "for i in range(len(y)):\n",
        "  noise = np.random.randn()*0.05\n",
        "  y[i] = np.sqrt(1-x[i]**2) + noise\n",
        "  r = np.random.uniform()\n",
        "  if r < 0.5:\n",
        "    y[i] = -1 * y[i]"
      ],
      "execution_count": 0,
      "outputs": []
    },
    {
      "cell_type": "code",
      "metadata": {
        "id": "BjpyRz0gBFVB",
        "colab_type": "code",
        "colab": {
          "base_uri": "https://localhost:8080/",
          "height": 269
        },
        "outputId": "c5a5322e-5b70-409c-f97f-bb525343e475"
      },
      "source": [
        "import matplotlib.pyplot as plt\n",
        "plt.scatter(x, y, s = 2)\n",
        "plt.show()"
      ],
      "execution_count": 377,
      "outputs": [
        {
          "output_type": "display_data",
          "data": {
            "image/png": "[encoded data removed]",
            "text/plain": [
              "<Figure size 432x288 with 1 Axes>"
            ]
          },
          "metadata": {
            "tags": []
          }
        }
      ]
    },
    {
      "cell_type": "markdown",
      "metadata": {
        "id": "C6ARI0i7Fc8T",
        "colab_type": "text"
      },
      "source": [
        "# **define model**"
      ]
    },
    {
      "cell_type": "code",
      "metadata": {
        "id": "UbaPkLEGDPV8",
        "colab_type": "code",
        "colab": {}
      },
      "source": [
        "from torch import nn\n",
        "\n",
        "class AutoEncoder(nn.Module):\n",
        "    def __init__(self):\n",
        "        super().__init__()\n",
        "        self.fc1 = nn.Linear(2, 4)\n",
        "        self.fc2 = nn.Linear(4, 8)\n",
        "        self.fc3 = nn.Linear(8, 16)\n",
        "        self.fc4 = nn.Linear(16, 32)\n",
        "        self.drop = nn.Dropout(p=0.5)\n",
        "        self.fc5 = nn.Linear(32, 1)\n",
        "        self.fc6 = nn.Linear(1, 32)\n",
        "        self.fc7 = nn.Linear(32, 16)\n",
        "        self.fc8 = nn.Linear(16, 8)\n",
        "        self.fc9 = nn.Linear(8, 4)\n",
        "        self.fc10 = nn.Linear(4, 2)\n",
        "        \n",
        "        \n",
        "        self.tanh = nn.Tanh()\n",
        "\n",
        "    def forward(self, xb):\n",
        "        temp = xb\n",
        "        temp = self.tanh(self.fc1(temp))\n",
        "        temp = self.tanh(self.fc2(temp))\n",
        "        temp = self.tanh(self.fc3(temp))\n",
        "        temp = self.drop(temp)\n",
        "        temp = self.tanh(self.fc4(temp))\n",
        "        temp = self.drop(temp)\n",
        "        temp = self.tanh(self.fc5(temp))\n",
        "        temp = self.tanh(self.fc6(temp))\n",
        "        temp = self.tanh(self.fc7(temp))\n",
        "        temp = self.tanh(self.fc8(temp))\n",
        "        temp = self.tanh(self.fc9(temp))\n",
        "        temp = self.tanh(self.fc10(temp))\n",
        "        return temp\n",
        "    \n",
        "    def decode(self, z):\n",
        "        temp = z\n",
        "        temp = self.tanh(self.fc6(temp))\n",
        "        temp = self.tanh(self.fc7(temp))\n",
        "        temp = self.tanh(self.fc8(temp))\n",
        "        temp = self.tanh(self.fc9(temp))\n",
        "        temp = self.tanh(self.fc10(temp))\n",
        "        return temp\n",
        "        "
      ],
      "execution_count": 0,
      "outputs": []
    },
    {
      "cell_type": "markdown",
      "metadata": {
        "id": "JvMBzjkcFjcF",
        "colab_type": "text"
      },
      "source": [
        "# **dataLoading**"
      ]
    },
    {
      "cell_type": "code",
      "metadata": {
        "id": "wqA3UOmSFmIN",
        "colab_type": "code",
        "colab": {
          "base_uri": "https://localhost:8080/",
          "height": 35
        },
        "outputId": "96059c07-7fd1-48fb-bcba-276f4059a49e"
      },
      "source": [
        "X = np.stack((x,y),axis = 1)\n",
        "X.shape"
      ],
      "execution_count": 379,
      "outputs": [
        {
          "output_type": "execute_result",
          "data": {
            "text/plain": [
              "(12800, 2)"
            ]
          },
          "metadata": {
            "tags": []
          },
          "execution_count": 379
        }
      ]
    },
    {
      "cell_type": "code",
      "metadata": {
        "id": "09KX3zglJxiM",
        "colab_type": "code",
        "colab": {}
      },
      "source": [
        "X = torch.tensor(X)\n"
      ],
      "execution_count": 0,
      "outputs": []
    },
    {
      "cell_type": "code",
      "metadata": {
        "id": "V9qQUp1iF7s1",
        "colab_type": "code",
        "colab": {}
      },
      "source": [
        "from torch.utils.data import DataLoader, TensorDataset\n",
        "\n",
        "train_dl = DataLoader(X, batch_size=64)"
      ],
      "execution_count": 0,
      "outputs": []
    },
    {
      "cell_type": "markdown",
      "metadata": {
        "id": "sFbBrXEhGrRH",
        "colab_type": "text"
      },
      "source": [
        "# **now operate ...**"
      ]
    },
    {
      "cell_type": "code",
      "metadata": {
        "id": "qKEAuzm-Gwix",
        "colab_type": "code",
        "colab": {}
      },
      "source": [
        "import torch\n",
        "model = AutoEncoder()\n",
        "opt = torch.optim.Adam(model.parameters())"
      ],
      "execution_count": 0,
      "outputs": []
    },
    {
      "cell_type": "code",
      "metadata": {
        "id": "kNMNTW9DJIdm",
        "colab_type": "code",
        "colab": {
          "base_uri": "https://localhost:8080/",
          "height": 35
        },
        "outputId": "4d22730e-299a-46dc-dc15-a8dce237daf7"
      },
      "source": [
        "# now lets test model\n",
        "test = torch.randn(1,2)\n",
        "model(test)"
      ],
      "execution_count": 383,
      "outputs": [
        {
          "output_type": "execute_result",
          "data": {
            "text/plain": [
              "tensor([[-0.3408, -0.4693]], grad_fn=<TanhBackward>)"
            ]
          },
          "metadata": {
            "tags": []
          },
          "execution_count": 383
        }
      ]
    },
    {
      "cell_type": "code",
      "metadata": {
        "id": "0W1t9am1Gg-t",
        "colab_type": "code",
        "colab": {
          "base_uri": "https://localhost:8080/",
          "height": 195
        },
        "outputId": "f8db4e0c-a1c4-4a83-cdeb-1d084c8b020b"
      },
      "source": [
        "loss_arr = []\n",
        "for epoch in range(100):\n",
        "  for xb in train_dl:\n",
        "    xb = xb.float()\n",
        "    out = model(xb)\n",
        "    loss = nn.functional.mse_loss(out, xb)\n",
        "    loss.backward()\n",
        "    opt.step()\n",
        "    opt.zero_grad()\n",
        "    loss_arr.append(loss.item())\n",
        "  if(epoch%10 == 0):\n",
        "    print(\"EPOCH \", epoch, \" loss is : \", loss.item())"
      ],
      "execution_count": 384,
      "outputs": [
        {
          "output_type": "stream",
          "text": [
            "EPOCH  0  loss is :  0.17302291095256805\n",
            "EPOCH  10  loss is :  0.06239068880677223\n",
            "EPOCH  20  loss is :  0.06664550304412842\n",
            "EPOCH  30  loss is :  0.048147764056921005\n",
            "EPOCH  40  loss is :  0.05251837521791458\n",
            "EPOCH  50  loss is :  0.050546903163194656\n",
            "EPOCH  60  loss is :  0.039538703858852386\n",
            "EPOCH  70  loss is :  0.040469225496053696\n",
            "EPOCH  80  loss is :  0.04377551004290581\n",
            "EPOCH  90  loss is :  0.030080916360020638\n"
          ],
          "name": "stdout"
        }
      ]
    },
    {
      "cell_type": "code",
      "metadata": {
        "id": "bqZf256SLcb7",
        "colab_type": "code",
        "colab": {
          "base_uri": "https://localhost:8080/",
          "height": 53
        },
        "outputId": "dc39ff4a-1a32-425c-f04b-5b8ac746d18b"
      },
      "source": [
        "#now lets test the model decoder\n",
        "test = torch.randn(2,1)\n",
        "model.decode(test)"
      ],
      "execution_count": 385,
      "outputs": [
        {
          "output_type": "execute_result",
          "data": {
            "text/plain": [
              "tensor([[-0.3045,  0.8885],\n",
              "        [-0.5427,  0.7994]], grad_fn=<TanhBackward>)"
            ]
          },
          "metadata": {
            "tags": []
          },
          "execution_count": 385
        }
      ]
    },
    {
      "cell_type": "code",
      "metadata": {
        "id": "ZUlo6MeXLkzj",
        "colab_type": "code",
        "colab": {
          "base_uri": "https://localhost:8080/",
          "height": 35
        },
        "outputId": "a4c3fcfd-a4a1-44a9-a1aa-497673416053"
      },
      "source": [
        "with torch.no_grad():\n",
        "  z = np.random.uniform(-1,1, size = (1000,1))\n",
        "  X = model.decode(torch.tensor(z).float()).numpy()\n",
        "  print(X.shape)"
      ],
      "execution_count": 386,
      "outputs": [
        {
          "output_type": "stream",
          "text": [
            "(1000, 2)\n"
          ],
          "name": "stdout"
        }
      ]
    },
    {
      "cell_type": "code",
      "metadata": {
        "id": "RQ5AJfXUMuXv",
        "colab_type": "code",
        "colab": {}
      },
      "source": [
        "x_generated = X[:,0]\n",
        "y_generated = X[:,1]"
      ],
      "execution_count": 0,
      "outputs": []
    },
    {
      "cell_type": "code",
      "metadata": {
        "id": "oJ4iN7VJMyyZ",
        "colab_type": "code",
        "colab": {
          "base_uri": "https://localhost:8080/",
          "height": 269
        },
        "outputId": "fce44025-8828-4689-b61d-e32160264e91"
      },
      "source": [
        "import matplotlib.pyplot as plt\n",
        "plt.scatter(x_generated, y_generated, s = 2, c='red')\n",
        "plt.show()"
      ],
      "execution_count": 388,
      "outputs": [
        {
          "output_type": "display_data",
          "data": {
            "image/png": "[encoded data removed]",
            "text/plain": [
              "<Figure size 432x288 with 1 Axes>"
            ]
          },
          "metadata": {
            "tags": []
          }
        }
      ]
    }
  ]
}